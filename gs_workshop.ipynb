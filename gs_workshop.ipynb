{
  "cells": [
    {
      "cell_type": "markdown",
      "metadata": {
        "id": "view-in-github",
        "colab_type": "text"
      },
      "source": [
        "<a href=\"https://colab.research.google.com/github/philip-hub/girlscout_workshop/blob/main/gs_workshop.ipynb\" target=\"_parent\"><img src=\"https://colab.research.google.com/assets/colab-badge.svg\" alt=\"Open In Colab\"/></a>"
      ]
    },
    {
      "cell_type": "code",
      "execution_count": null,
      "metadata": {
        "colab": {
          "background_save": true,
          "base_uri": "https://localhost:8080/"
        },
        "id": "wlnHJurP7xJZ",
        "outputId": "4ce932ee-ef77-48b1-969a-130060f1a833"
      },
      "outputs": [
        {
          "name": "stdout",
          "output_type": "stream",
          "text": [
            "Requirement already satisfied: colorama in /usr/local/lib/python3.10/dist-packages (0.4.6)\n",
            "Requirement already satisfied: transformers in /usr/local/lib/python3.10/dist-packages (4.38.2)\n",
            "Requirement already satisfied: filelock in /usr/local/lib/python3.10/dist-packages (from transformers) (3.13.1)\n",
            "Requirement already satisfied: huggingface-hub<1.0,>=0.19.3 in /usr/local/lib/python3.10/dist-packages (from transformers) (0.20.3)\n",
            "Requirement already satisfied: numpy>=1.17 in /usr/local/lib/python3.10/dist-packages (from transformers) (1.25.2)\n",
            "Requirement already satisfied: packaging>=20.0 in /usr/local/lib/python3.10/dist-packages (from transformers) (24.0)\n",
            "Requirement already satisfied: pyyaml>=5.1 in /usr/local/lib/python3.10/dist-packages (from transformers) (6.0.1)\n",
            "Requirement already satisfied: regex!=2019.12.17 in /usr/local/lib/python3.10/dist-packages (from transformers) (2023.12.25)\n",
            "Requirement already satisfied: requests in /usr/local/lib/python3.10/dist-packages (from transformers) (2.31.0)\n",
            "Requirement already satisfied: tokenizers<0.19,>=0.14 in /usr/local/lib/python3.10/dist-packages (from transformers) (0.15.2)\n",
            "Requirement already satisfied: safetensors>=0.4.1 in /usr/local/lib/python3.10/dist-packages (from transformers) (0.4.2)\n",
            "Requirement already satisfied: tqdm>=4.27 in /usr/local/lib/python3.10/dist-packages (from transformers) (4.66.2)\n",
            "Requirement already satisfied: fsspec>=2023.5.0 in /usr/local/lib/python3.10/dist-packages (from huggingface-hub<1.0,>=0.19.3->transformers) (2023.6.0)\n",
            "Requirement already satisfied: typing-extensions>=3.7.4.3 in /usr/local/lib/python3.10/dist-packages (from huggingface-hub<1.0,>=0.19.3->transformers) (4.10.0)\n",
            "Requirement already satisfied: charset-normalizer<4,>=2 in /usr/local/lib/python3.10/dist-packages (from requests->transformers) (3.3.2)\n",
            "Requirement already satisfied: idna<4,>=2.5 in /usr/local/lib/python3.10/dist-packages (from requests->transformers) (3.6)\n",
            "Requirement already satisfied: urllib3<3,>=1.21.1 in /usr/local/lib/python3.10/dist-packages (from requests->transformers) (2.0.7)\n",
            "Requirement already satisfied: certifi>=2017.4.17 in /usr/local/lib/python3.10/dist-packages (from requests->transformers) (2024.2.2)\n",
            "Requirement already satisfied: transformers in /usr/local/lib/python3.10/dist-packages (4.38.2)\n",
            "Requirement already satisfied: filelock in /usr/local/lib/python3.10/dist-packages (from transformers) (3.13.1)\n",
            "Requirement already satisfied: huggingface-hub<1.0,>=0.19.3 in /usr/local/lib/python3.10/dist-packages (from transformers) (0.20.3)\n",
            "Requirement already satisfied: numpy>=1.17 in /usr/local/lib/python3.10/dist-packages (from transformers) (1.25.2)\n",
            "Requirement already satisfied: packaging>=20.0 in /usr/local/lib/python3.10/dist-packages (from transformers) (24.0)\n",
            "Requirement already satisfied: pyyaml>=5.1 in /usr/local/lib/python3.10/dist-packages (from transformers) (6.0.1)\n",
            "Requirement already satisfied: regex!=2019.12.17 in /usr/local/lib/python3.10/dist-packages (from transformers) (2023.12.25)\n",
            "Requirement already satisfied: requests in /usr/local/lib/python3.10/dist-packages (from transformers) (2.31.0)\n",
            "Requirement already satisfied: tokenizers<0.19,>=0.14 in /usr/local/lib/python3.10/dist-packages (from transformers) (0.15.2)\n",
            "Requirement already satisfied: safetensors>=0.4.1 in /usr/local/lib/python3.10/dist-packages (from transformers) (0.4.2)\n",
            "Requirement already satisfied: tqdm>=4.27 in /usr/local/lib/python3.10/dist-packages (from transformers) (4.66.2)\n",
            "Requirement already satisfied: fsspec>=2023.5.0 in /usr/local/lib/python3.10/dist-packages (from huggingface-hub<1.0,>=0.19.3->transformers) (2023.6.0)\n",
            "Requirement already satisfied: typing-extensions>=3.7.4.3 in /usr/local/lib/python3.10/dist-packages (from huggingface-hub<1.0,>=0.19.3->transformers) (4.10.0)\n",
            "Requirement already satisfied: charset-normalizer<4,>=2 in /usr/local/lib/python3.10/dist-packages (from requests->transformers) (3.3.2)\n",
            "Requirement already satisfied: idna<4,>=2.5 in /usr/local/lib/python3.10/dist-packages (from requests->transformers) (3.6)\n",
            "Requirement already satisfied: urllib3<3,>=1.21.1 in /usr/local/lib/python3.10/dist-packages (from requests->transformers) (2.0.7)\n",
            "Requirement already satisfied: certifi>=2017.4.17 in /usr/local/lib/python3.10/dist-packages (from requests->transformers) (2024.2.2)\n",
            "Requirement already satisfied: transformers in /usr/local/lib/python3.10/dist-packages (4.38.2)\n",
            "Requirement already satisfied: filelock in /usr/local/lib/python3.10/dist-packages (from transformers) (3.13.1)\n",
            "Requirement already satisfied: huggingface-hub<1.0,>=0.19.3 in /usr/local/lib/python3.10/dist-packages (from transformers) (0.20.3)\n",
            "Requirement already satisfied: numpy>=1.17 in /usr/local/lib/python3.10/dist-packages (from transformers) (1.25.2)\n",
            "Requirement already satisfied: packaging>=20.0 in /usr/local/lib/python3.10/dist-packages (from transformers) (24.0)\n",
            "Requirement already satisfied: pyyaml>=5.1 in /usr/local/lib/python3.10/dist-packages (from transformers) (6.0.1)\n",
            "Requirement already satisfied: regex!=2019.12.17 in /usr/local/lib/python3.10/dist-packages (from transformers) (2023.12.25)\n",
            "Requirement already satisfied: requests in /usr/local/lib/python3.10/dist-packages (from transformers) (2.31.0)\n",
            "Requirement already satisfied: tokenizers<0.19,>=0.14 in /usr/local/lib/python3.10/dist-packages (from transformers) (0.15.2)\n",
            "Requirement already satisfied: safetensors>=0.4.1 in /usr/local/lib/python3.10/dist-packages (from transformers) (0.4.2)\n",
            "Requirement already satisfied: tqdm>=4.27 in /usr/local/lib/python3.10/dist-packages (from transformers) (4.66.2)\n",
            "Requirement already satisfied: fsspec>=2023.5.0 in /usr/local/lib/python3.10/dist-packages (from huggingface-hub<1.0,>=0.19.3->transformers) (2023.6.0)\n",
            "Requirement already satisfied: typing-extensions>=3.7.4.3 in /usr/local/lib/python3.10/dist-packages (from huggingface-hub<1.0,>=0.19.3->transformers) (4.10.0)\n",
            "Requirement already satisfied: charset-normalizer<4,>=2 in /usr/local/lib/python3.10/dist-packages (from requests->transformers) (3.3.2)\n",
            "Requirement already satisfied: idna<4,>=2.5 in /usr/local/lib/python3.10/dist-packages (from requests->transformers) (3.6)\n",
            "Requirement already satisfied: urllib3<3,>=1.21.1 in /usr/local/lib/python3.10/dist-packages (from requests->transformers) (2.0.7)\n",
            "Requirement already satisfied: certifi>=2017.4.17 in /usr/local/lib/python3.10/dist-packages (from requests->transformers) (2024.2.2)\n",
            "Requirement already satisfied: datasets in /usr/local/lib/python3.10/dist-packages (2.18.0)\n",
            "Requirement already satisfied: filelock in /usr/local/lib/python3.10/dist-packages (from datasets) (3.13.1)\n",
            "Requirement already satisfied: numpy>=1.17 in /usr/local/lib/python3.10/dist-packages (from datasets) (1.25.2)\n",
            "Requirement already satisfied: pyarrow>=12.0.0 in /usr/local/lib/python3.10/dist-packages (from datasets) (14.0.2)\n",
            "Requirement already satisfied: pyarrow-hotfix in /usr/local/lib/python3.10/dist-packages (from datasets) (0.6)\n",
            "Requirement already satisfied: dill<0.3.9,>=0.3.0 in /usr/local/lib/python3.10/dist-packages (from datasets) (0.3.8)\n",
            "Requirement already satisfied: pandas in /usr/local/lib/python3.10/dist-packages (from datasets) (1.5.3)\n",
            "Requirement already satisfied: requests>=2.19.0 in /usr/local/lib/python3.10/dist-packages (from datasets) (2.31.0)\n",
            "Requirement already satisfied: tqdm>=4.62.1 in /usr/local/lib/python3.10/dist-packages (from datasets) (4.66.2)\n",
            "Requirement already satisfied: xxhash in /usr/local/lib/python3.10/dist-packages (from datasets) (3.4.1)\n",
            "Requirement already satisfied: multiprocess in /usr/local/lib/python3.10/dist-packages (from datasets) (0.70.16)\n",
            "Requirement already satisfied: fsspec[http]<=2024.2.0,>=2023.1.0 in /usr/local/lib/python3.10/dist-packages (from datasets) (2023.6.0)\n",
            "Requirement already satisfied: aiohttp in /usr/local/lib/python3.10/dist-packages (from datasets) (3.9.3)\n",
            "Requirement already satisfied: huggingface-hub>=0.19.4 in /usr/local/lib/python3.10/dist-packages (from datasets) (0.20.3)\n",
            "Requirement already satisfied: packaging in /usr/local/lib/python3.10/dist-packages (from datasets) (24.0)\n",
            "Requirement already satisfied: pyyaml>=5.1 in /usr/local/lib/python3.10/dist-packages (from datasets) (6.0.1)\n",
            "Requirement already satisfied: aiosignal>=1.1.2 in /usr/local/lib/python3.10/dist-packages (from aiohttp->datasets) (1.3.1)\n",
            "Requirement already satisfied: attrs>=17.3.0 in /usr/local/lib/python3.10/dist-packages (from aiohttp->datasets) (23.2.0)\n",
            "Requirement already satisfied: frozenlist>=1.1.1 in /usr/local/lib/python3.10/dist-packages (from aiohttp->datasets) (1.4.1)\n",
            "Requirement already satisfied: multidict<7.0,>=4.5 in /usr/local/lib/python3.10/dist-packages (from aiohttp->datasets) (6.0.5)\n",
            "Requirement already satisfied: yarl<2.0,>=1.0 in /usr/local/lib/python3.10/dist-packages (from aiohttp->datasets) (1.9.4)\n",
            "Requirement already satisfied: async-timeout<5.0,>=4.0 in /usr/local/lib/python3.10/dist-packages (from aiohttp->datasets) (4.0.3)\n",
            "Requirement already satisfied: typing-extensions>=3.7.4.3 in /usr/local/lib/python3.10/dist-packages (from huggingface-hub>=0.19.4->datasets) (4.10.0)\n",
            "Requirement already satisfied: charset-normalizer<4,>=2 in /usr/local/lib/python3.10/dist-packages (from requests>=2.19.0->datasets) (3.3.2)\n",
            "Requirement already satisfied: idna<4,>=2.5 in /usr/local/lib/python3.10/dist-packages (from requests>=2.19.0->datasets) (3.6)\n",
            "Requirement already satisfied: urllib3<3,>=1.21.1 in /usr/local/lib/python3.10/dist-packages (from requests>=2.19.0->datasets) (2.0.7)\n",
            "Requirement already satisfied: certifi>=2017.4.17 in /usr/local/lib/python3.10/dist-packages (from requests>=2.19.0->datasets) (2024.2.2)\n",
            "Requirement already satisfied: python-dateutil>=2.8.1 in /usr/local/lib/python3.10/dist-packages (from pandas->datasets) (2.8.2)\n",
            "Requirement already satisfied: pytz>=2020.1 in /usr/local/lib/python3.10/dist-packages (from pandas->datasets) (2023.4)\n",
            "Requirement already satisfied: six>=1.5 in /usr/local/lib/python3.10/dist-packages (from python-dateutil>=2.8.1->pandas->datasets) (1.16.0)\n",
            "/bin/bash: line 1: conda: command not found\n"
          ]
        }
      ],
      "source": [
        "!pip install colorama\n",
        "!pip install transformers\n",
        "\n",
        "\n",
        "! pip install transformers\n",
        "\n",
        "! pip install --upgrade transformers\n",
        "\n",
        "! pip install datasets\n",
        "\n",
        "! conda install pytorch torchvision torchaudio -c pytorch\n"
      ]
    },
    {
      "cell_type": "code",
      "execution_count": null,
      "metadata": {
        "colab": {
          "background_save": true
        },
        "id": "5LNMHdOZ70lm"
      },
      "outputs": [],
      "source": [
        "from colorama import Fore, Back, Style\n",
        "from transformers import AutoTokenizer, AutoModelForCausalLM\n",
        "from transformers import pipeline\n",
        "from transformers import AutoTokenizer\n",
        "\n",
        "import time\n",
        "import sys\n",
        "\n"
      ]
    },
    {
      "cell_type": "code",
      "execution_count": 47,
      "metadata": {
        "id": "YV3hAK3b_tBk"
      },
      "outputs": [],
      "source": [
        "def chatGPTCore(question):\n",
        "  tokenizer = AutoTokenizer.from_pretrained(\"gpt2\")\n",
        "  model = AutoModelForCausalLM.from_pretrained(\"gpt2\")\n",
        "  generator = pipeline('text-generation', model=model, tokenizer=tokenizer)\n",
        "  results = generator(question, do_sample=True, min_length=5, max_length=500,truncation=True)\n",
        "  resultDict = results[0]\n",
        "  resultString = resultDict['generated_text']\n",
        "  return resultString"
      ]
    },
    {
      "cell_type": "code",
      "execution_count": null,
      "metadata": {
        "colab": {
          "base_uri": "https://localhost:8080/"
        },
        "id": "_s6r6cLf_Y0r",
        "outputId": "ecaebcba-2cb1-4efa-a9ed-0a57fc73ac1f"
      },
      "outputs": [
        {
          "output_type": "stream",
          "name": "stdout",
          "text": [
            "\u001b[34mWelcome to batteryGPT!\n",
            "Ask Questions about Philip Batterys\n",
            "\n",
            "how are batteries made\n",
            "\u001b[32mhow are batteries made\n",
            "\n",
            "\n"
          ]
        },
        {
          "output_type": "stream",
          "name": "stderr",
          "text": [
            "Setting `pad_token_id` to `eos_token_id`:50256 for open-end generation.\n"
          ]
        },
        {
          "output_type": "stream",
          "name": "stdout",
          "text": [
            "\u001b[34mhow are batteries made of?\n",
            "\n",
            "The average lithium-ion battery can be charged anywhere from 5,000 quarts to 10,000 quarts per minute (compared to 40,000 quarts for lithium-ion batteries in a 3A system) The range of rechargeable cells compared to what is needed for typical battery life. Battery life in the world of laptops (desktop laptops, tablets, smartphones, and PCs) is quite high. Most current-generation laptops have not been designed for this purpose. If you need a laptop without a keyboard, all you need is a basic computer and a screen for navigation, but if you need a laptop that requires you to take up lots of time or use your laptop's hard drive in the office, you need a notebook to use frequently. When you want to do things more quickly, a laptop (or laptop accessory) you can connect to a smartphone (or smartwatch/tablet) also uses more energy than an average laptop and should only be considered as a standard for a portable battery when it comes to its durability. While there are some places where a laptop is not practical today - if it's used at home, for example - it will last a long time without problems. The difference between a laptop and a typical battery can easily be calculated to be between 11% vs. 20% for the typical Li-ion battery or between 6% and 10% for the typical lithium-ion battery. How long should an Apple MacBook Air last after it reaches about 12-14 hours of use? An Apple MacBook Air is best for an extra three weeks to maintain its battery life under constant use, so if the MacBook Air does not last that long, the system is not likely to offer long battery life at all and even if it does, there's no guarantee you won't be able to keep up with demands in the future.\n",
            "\n",
            "\n",
            "To compare current-generation computers to laptop models used on older models of the same brand, here are the maximum battery life and average energy consumed by the battery:\n",
            "\n",
            "\n",
            "Current generation MacBook Air 2-Series (3.0-inch) (5.35 W, 0.55 HP, 28 Cog) 13.5 hours (12.9 w/o charge) 12.9 hours (12 w/o charge) 8.45 W @ 5,000 rpm 3.5 hours (6 w/o charge)\n",
            "\n",
            "10.45W to 15.5W 4.\n",
            "\n",
            "\n",
            "hello\n",
            "\u001b[32mhello\n",
            "\n",
            "\n"
          ]
        },
        {
          "output_type": "stream",
          "name": "stderr",
          "text": [
            "Setting `pad_token_id` to `eos_token_id`:50256 for open-end generation.\n"
          ]
        },
        {
          "output_type": "stream",
          "name": "stdout",
          "text": [
            "\u001b[34mhello: Please wait...\n",
            "\n",
            "Trey Dorman: Okay.\n",
            "\n",
            "Brent: Do you think that's possible?\n",
            "\n",
            "Trey Dorman: Well, I think it's actually quite easy.\n",
            "\n",
            "Brent: It's like you're gonna have a bunch of people come down to watch your game, because this is your family's place right now, right?\n",
            "\n",
            "Trey Dorman: Yes.\n",
            "\n",
            "Brent: I'm gonna give you this, and I'm gonna say 'You know what? I love this game of yours.\"\n",
            "\n",
            "Trey Dorman: And not even about my family business, like, 'Oh my gosh. You know, they're gonna all go away after six months...\n",
            "\n",
            "Brent: They're gonna all move, right?\n",
            "\n",
            "Trey Dorman:...and you won't have to leave home to get a job.\n",
            "\n",
            "Brent: Really?\n",
            "\n",
            "Trey Dorman: Yeah.\n",
            "\n",
            "Brent: So who cares about your kids, you know? They're gonna have a living.\n",
            "\n",
            "Trey Dorman: Well, I don't know what it means to pay them their way, but I do know that's going on. I'm gonna give you a way with it. I'm gonna take you home.\n",
            "\n",
            "Brent: Okay. And just for a second. So how is that possible?\n",
            "\n",
            "Trey Dorman: So the question is, how will you tell those teenagers, they are not going to pay you money? How about letting them buy their own houses, right? And how about not having to pay their way to school?\n",
            "\n",
            "Brent: Well, we've all got different ways, so it's hard to tell at this point. It's not like you're going to want to see your kids, right?\n",
            "\n",
            "Trey Dorman: So maybe that's not what you're looking for anymore. You have to be happy with life.\n",
            "\n",
            "Brent: Well, you know it's been around here for a while, right?\n",
            "\n",
            "Trey Dorman: There's been quite an increase in kids in recent years.\n",
            "\n",
            "Brent: Is that all right? Are you going to get a whole lot of them, right?\n",
            "\n",
            "Trey Dorman: Yes.\n",
            "\n",
            "Brent: And how about you tell them you like them?\n",
            "\n",
            "Trey D\n",
            "\n",
            "\n",
            "Is Philip cool\n",
            "\u001b[32mIs Philip cool\n",
            "\n",
            "\n"
          ]
        },
        {
          "output_type": "stream",
          "name": "stderr",
          "text": [
            "Setting `pad_token_id` to `eos_token_id`:50256 for open-end generation.\n"
          ]
        },
        {
          "output_type": "stream",
          "name": "stdout",
          "text": [
            "\u001b[34mIs Philip cool off with his first big move of the summer, perhaps the most crucial piece of the puzzle of every Lions squad.\n",
            "\n",
            "\n",
            "He has been criticised for lack of attacking presence or potential to complement what's been thrown at him during his time at London Bridge. A young winger who likes to take defenders inside, an attacking midfielder who can be an effective left-back (and sometimes winger).\n",
            "\n",
            "\n",
            "A good defensive player with great pace and ball control. He has a great shot who has good defensive options, and could also be a real option for Lomac to exploit in the attacking third.\n",
            "\n",
            "\n",
            "He also has a terrific set piece in his hands, but could also be a problem for Lions players who start playing from fullback. He won't have the time to develop in a full-back role, but would be a big benefit in the attack.\n",
            "\n",
            "Read next Here is what the'mainstays' are for Lions players starting their Lions career with Paul Gascoigne\n",
            "\n",
            "\n",
            "Is it time to sign another centre back? No, not at all, it's time to sign a centre back now before the end of the season. There is absolutely no right or wrong way and the choice is clear: go from centre-back to centre-back, or sign a right back and be stuck as a centre left-back. It could be as simple as picking a back whose experience at Leicester will mean they won't be able to take on that role.\n",
            "\n",
            "\n",
            "David Pocock\n",
            "\n",
            "The former Southampton manager turned centre back has been linked with a move away from Tottenham to Real Madrid and wants to stay with them until the end of the year, when he will be free to complete a move to Spain. After a couple of years he is getting tired of being a back a and believes that he can stay here and play in the top four, as a 'core-core guy' if he chooses to go there. But, in his opinion, the time will come before Arsenal can make the move.\n",
            "\n",
            "Read next David Pocock could be the world's best centre backs coach David Pocock could be the world's best centre backs coach\n",
            "\n",
            "\"We have to have a good group, a group of players who can play from any position,\" Coyle told BBC Radio L'Equipe. \"If we can do that well then we'll win a major championship and I don't think a group of this size like this can win a major\n",
            "\n",
            "\n"
          ]
        }
      ],
      "source": [
        "questionNum = 0\n",
        "active = True\n",
        "\n",
        "def search(searchInput,question_dict):\n",
        "  item = question_dict[searchInput]\n",
        "  print(item)\n",
        "\n",
        "\n",
        "def dump(question_dict):\n",
        "    for key, value in question_dict.items():\n",
        "        print(f\"{key} : {value}\")\n",
        "\n",
        "\n",
        "def BatteryGPT(active,questionNum):\n",
        "  question_dict ={}\n",
        "  while(active):\n",
        "    if(questionNum==0):\n",
        "      print(Fore.BLUE + 'Welcome to batteryGPT!\\nAsk Questions about Philip Batterys\\n')\n",
        "      questionNum = questionNum+1\n",
        "    else:\n",
        "      userInput = input()\n",
        "      if (userInput==\"!/sleep\"):\n",
        "        active=False\n",
        "      elif(userInput==\"!/search\"):\n",
        "        searchInput = input(\"Search based on questions?\")\n",
        "        search()\n",
        "      else:\n",
        "        print(Fore.GREEN + userInput)\n",
        "        print(\"\\n\")\n",
        "        answer = chatGPTCore(userInput)\n",
        "        question_dict[userInput] = answer\n",
        "        print(Fore.BLUE + answer)\n",
        "        print(\"\\n\")\n",
        "\n",
        "\n",
        "\n",
        "\n",
        "\n",
        "\n",
        "BatteryGPT(active,questionNum)\n",
        "\n",
        "\n",
        "\n",
        "\n"
      ]
    },
    {
      "cell_type": "code",
      "execution_count": null,
      "metadata": {
        "colab": {
          "background_save": true
        },
        "id": "pbKdLEG4Bi38"
      },
      "outputs": [],
      "source": []
    }
  ],
  "metadata": {
    "colab": {
      "provenance": [],
      "authorship_tag": "ABX9TyMQbZrsWUI7Yzrd3cmn/zdc",
      "include_colab_link": true
    },
    "kernelspec": {
      "display_name": "Python 3",
      "name": "python3"
    },
    "language_info": {
      "name": "python"
    }
  },
  "nbformat": 4,
  "nbformat_minor": 0
}